{
 "cells": [
  {
   "cell_type": "code",
   "execution_count": 18,
   "metadata": {
    "collapsed": false
   },
   "outputs": [
    {
     "name": "stdout",
     "output_type": "stream",
     "text": [
      "(u'Techni Mobili Odile Wood Top Computer Work Station in Graphite', 'https://media.cymaxstores.com/Images/1674/365738-SM2.jpg')\n"
     ]
    }
   ],
   "source": [
    "from bs4 import BeautifulSoup\n",
    "import urllib\n",
    "\n",
    "def product_by_id(product_id):\n",
    "    \"\"\"\n",
    "    Get Product description by product id\n",
    "    \"\"\"\n",
    "    host = \"https://cymax.com/\"\n",
    "    \n",
    "    r = urllib.urlopen(host + str(product_id) +'--C0.htm').read()\n",
    "    soup = BeautifulSoup(r)\n",
    "\n",
    "    product = soup.find_all(\"div\", class_=\"product-item\")\n",
    "    product_description = product[0].find(class_ = \"product-description\").getText()\n",
    "    product_img = product[0].find(class_ = \"product-item-img\")[\"src\"]\n",
    "    \n",
    "    return product_description, product_img\n",
    "\n",
    "#print product_by_id(420795)\n"
   ]
  },
  {
   "cell_type": "code",
   "execution_count": 40,
   "metadata": {
    "collapsed": false
   },
   "outputs": [
    {
     "name": "stdout",
     "output_type": "stream",
     "text": [
      "set([600, 300, 100])\n"
     ]
    }
   ],
   "source": [
    "from cassandra.cluster import Cluster\n",
    "def fetch_product_by_id(product_id):\n",
    "    host = [\"127.0.0.1\"]\n",
    "    cluster = Cluster(host)\n",
    "    session = cluster.connect(\"cmpt732\")\n",
    "    item1 = session.execute('select productID2 from RecommendProducts where productID1 = %d' % product_id)\n",
    "    rec_set = set()\n",
    "    for item in item1:\n",
    "        rec_set.add(item[0])\n",
    "    item2 = session.execute('select productID1 from RecommendProducts where productID2 = %d ALLOW FILTERING' % item[0])\n",
    "    for item in item2:\n",
    "        rec_set.add(item[0])\n",
    "    return rec_set\n",
    "       \n",
    "print(fetch_product_by_id(300))"
   ]
  }
 ],
 "metadata": {
  "kernelspec": {
   "display_name": "Python 2",
   "language": "python",
   "name": "python2"
  },
  "language_info": {
   "codemirror_mode": {
    "name": "ipython",
    "version": 2
   },
   "file_extension": ".py",
   "mimetype": "text/x-python",
   "name": "python",
   "nbconvert_exporter": "python",
   "pygments_lexer": "ipython2",
   "version": "2.7.12"
  }
 },
 "nbformat": 4,
 "nbformat_minor": 1
}
